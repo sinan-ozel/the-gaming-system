{
 "cells": [
  {
   "cell_type": "markdown",
   "metadata": {},
   "source": [
    "## Bonus vs Roll"
   ]
  },
  {
   "cell_type": "markdown",
   "metadata": {},
   "source": [
    "Expertise bonus determination:\n",
    "1 year +1\n",
    "5 yrs +5\n",
    "10 yrs +10\n",
    "11 yrs +11\n",
    "30 yrs +13\n",
    "90 yrs +19\n",
    "100 yrs +20\n",
    "200 yrs +22\n",
    "300 yrs +23\n",
    "1000 yrs +30\n"
   ]
  },
  {
   "cell_type": "markdown",
   "metadata": {},
   "source": [
    "A formal way to think about this is:\n",
    "Deterministic bonus\n",
    "Dice Expected outcome\n",
    "Dice variance or 75% percentile\n",
    "\n",
    "Here is a table for a D&D low level character for an expert proficiency role.\n",
    "7 & 10.5 & 5\n",
    "\n",
    "Same for a high level D&D character:\n",
    "16 & 10.5 & 5\n"
   ]
  },
  {
   "cell_type": "markdown",
   "metadata": {},
   "source": [
    "## Initialization"
   ]
  },
  {
   "cell_type": "code",
   "execution_count": 1,
   "metadata": {},
   "outputs": [],
   "source": [
    "import math\n",
    "import numpy as np\n",
    "import pandas as pd\n",
    "import random\n",
    "import re\n",
    "from matplotlib import pyplot as plt\n",
    "import seaborn as sns"
   ]
  },
  {
   "cell_type": "code",
   "execution_count": 2,
   "metadata": {},
   "outputs": [],
   "source": [
    "def fct(x):\n",
    "    return math.factorial(x)"
   ]
  },
  {
   "cell_type": "code",
   "execution_count": 3,
   "metadata": {},
   "outputs": [],
   "source": [
    "class Dice:\n",
    "    definition_format = re.compile('[1-9][0-9]*d[1-9][0-9]*')\n",
    "    \n",
    "    @classmethod\n",
    "    def _parse_definition(cls, definition):\n",
    "        if not cls.definition_format.match(definition):\n",
    "            raise ValueError\n",
    "        dice_params = definition.split('d')\n",
    "        dice_pool = int(dice_params[0])\n",
    "        dice_side = int(dice_params[1])\n",
    "        \n",
    "        return dice_pool, dice_side\n",
    "    \n",
    "    def __init__(self, definition=None):\n",
    "        if definition is not None:\n",
    "            self.dice_pool, self.dice_side = self._parse_definition(definition)\n",
    "    \n",
    "    def __enter__(self):\n",
    "        return self\n",
    "    \n",
    "    def __exit__(self, exc_type, exc_value, exc_traceback):\n",
    "        pass\n",
    "    \n",
    "    @staticmethod\n",
    "    def roll(dice_pool, dice_side):\n",
    "            \n",
    "        return np.random.randint(1, high=dice_side + 1, size=dice_pool)\n",
    "    \n",
    "    def __call__(self, definition=None):\n",
    "        if definition is not None:\n",
    "            dice_pool, dice_side = self._parse_definition(definition)\n",
    "        else:\n",
    "            dice_pool, dice_side = self.dice_pool, self.dice_side\n",
    "        return self.roll(dice_pool, dice_side)\n",
    "    "
   ]
  },
  {
   "cell_type": "code",
   "execution_count": 4,
   "metadata": {},
   "outputs": [
    {
     "data": {
      "text/plain": [
       "array([2, 1])"
      ]
     },
     "metadata": {},
     "output_type": "display_data"
    }
   ],
   "source": [
    "with Dice('2d6') as roll:\n",
    "    display(roll())"
   ]
  },
  {
   "cell_type": "code",
   "execution_count": 61,
   "metadata": {},
   "outputs": [],
   "source": [
    "class d:\n",
    "    class Roll:\n",
    "        def __init__(self, result: np.ndarray):\n",
    "            if not isinstance(result, np.ndarray) or len(result.shape) > 2:\n",
    "                raise TypeError\n",
    "            self.result = result\n",
    "            if len(result.shape) == 1:\n",
    "                self.len = len(result)\n",
    "            else:\n",
    "                self.len = result.shape[0]\n",
    "            \n",
    "        @property\n",
    "        def shape(self):\n",
    "            return self.result.shape\n",
    "        \n",
    "        def dice_count(self):\n",
    "            if len(self.result.shape) == 2:\n",
    "                return self.result.shape[0]\n",
    "            else:\n",
    "                return 1\n",
    "        \n",
    "        def __len__(self):\n",
    "            if len(result.shape) == 1:\n",
    "                return self.len(self.len)\n",
    "            else:\n",
    "                return TypeError\n",
    "            \n",
    "        def __repr__(self):\n",
    "            return str(self.result)\n",
    "        \n",
    "        def __add__(self, other: int):\n",
    "            if isinstance(other, int):\n",
    "                return self.__class__(self.result + np.array([other]))\n",
    "            elif isinstance(other, self.__class__):\n",
    "                if len(self.result.shape) != len(other.result.shape):\n",
    "                    raise ValueError\n",
    "                if len(self.result.shape) <= 2:\n",
    "                    return self.__class__(np.concatenate([self.result, other.result]))\n",
    "                else:\n",
    "                    raise ValueError\n",
    "            else:\n",
    "                return NotImplemented\n",
    "            \n",
    "        def __eq__(self, other: int):\n",
    "            # Raise error for 2d arrays\n",
    "            return self.result == other\n",
    "\n",
    "        def __gt__(self, other: int):\n",
    "            return self.result > other\n",
    "\n",
    "        def __ge__(self, other: int):\n",
    "            return self.result >= other\n",
    "\n",
    "        def __lt__(self, other: int):\n",
    "            return self.result < other\n",
    "\n",
    "        def __le__(self, other: int):\n",
    "            return self.result <= other\n",
    "        \n",
    "        def max(self):\n",
    "            return self.sum().max()\n",
    "        \n",
    "        def min(self):\n",
    "            return self.sum().min()\n",
    "        \n",
    "        def sum(self):\n",
    "            if len(self.result.shape) == 1:\n",
    "                return self.result.sum()\n",
    "            elif len(self.result.shape) == 2:\n",
    "                return self.result.sum(axis=0)\n",
    "        \n",
    "    def _roll(self, n=1, k=1):\n",
    "        return np.random.randint(1, high=self.sides + 1, size=(k, n))\n",
    "    \n",
    "    def __init__(self, sides: int):\n",
    "        self.sides = sides\n",
    "        \n",
    "    def __len__(self):\n",
    "        return self.sides\n",
    "        \n",
    "    def max(self):\n",
    "        return self.sides\n",
    "    \n",
    "    def min(self):\n",
    "        return 1\n",
    "        \n",
    "    def range(self):\n",
    "        return (1, self.sides)\n",
    "    \n",
    "    def expected(self):\n",
    "        return (self.sides + 1) / 2\n",
    "        \n",
    "    def __rmul__(self, other):\n",
    "        if isinstance(other, int):\n",
    "            return self.__class__.Roll(np.array(self._roll(n=other)[0]))\n",
    "        elif isinstance(other, tuple):\n",
    "            return self.__class__.Roll(np.matrix(self._roll(n=other[0], k=other[1])))\n",
    "        else:\n",
    "            return NotImplemented\n",
    "\n",
    "    def __enter__(self):\n",
    "        return self\n",
    "    \n",
    "    def __exit__(self, exc_type, exc_value, exc_traceback):\n",
    "        pass\n",
    "    \n",
    "    def __repr__(self):\n",
    "        return f'd{self.sides}'\n",
    "    \n",
    "\n"
   ]
  },
  {
   "cell_type": "code",
   "execution_count": 45,
   "metadata": {},
   "outputs": [
    {
     "data": {
      "text/plain": [
       "array([[6]])"
      ]
     },
     "metadata": {},
     "output_type": "display_data"
    },
    {
     "data": {
      "text/plain": [
       "[1 2 2 3]"
      ]
     },
     "metadata": {},
     "output_type": "display_data"
    },
    {
     "data": {
      "text/plain": [
       "[7 7 8 7]"
      ]
     },
     "metadata": {},
     "output_type": "display_data"
    },
    {
     "data": {
      "text/plain": [
       "array([False, False, False,  True])"
      ]
     },
     "metadata": {},
     "output_type": "display_data"
    },
    {
     "data": {
      "text/plain": [
       "array([ True,  True,  True, False])"
      ]
     },
     "metadata": {},
     "output_type": "display_data"
    },
    {
     "data": {
      "text/plain": [
       "[[5 3]\n",
       " [6 6]\n",
       " [5 3]\n",
       " [5 1]]"
      ]
     },
     "metadata": {},
     "output_type": "display_data"
    },
    {
     "data": {
      "text/plain": [
       "[13 14]"
      ]
     },
     "metadata": {},
     "output_type": "display_data"
    },
    {
     "data": {
      "text/plain": [
       "[3 2 4]"
      ]
     },
     "metadata": {},
     "output_type": "display_data"
    },
    {
     "data": {
      "text/plain": [
       "[[5 5 3]\n",
       " [2 3 1]\n",
       " [2 4 4]]"
      ]
     },
     "metadata": {},
     "output_type": "display_data"
    },
    {
     "data": {
      "text/plain": [
       "matrix([[10,  6,  5]])"
      ]
     },
     "metadata": {},
     "output_type": "display_data"
    }
   ],
   "source": [
    "with d(6) as d6:\n",
    "    display(d6._roll())\n",
    "    display(4*d6)\n",
    "    display(4*d6 + 2)\n",
    "    assert 1 <= 1*d6 <= 6\n",
    "    assert 3 <= 1*d6 + 2 <= 8\n",
    "    display(4*d6 == 6)\n",
    "    assert (4*d6 <= 24).all()\n",
    "    display(4*d6 >= 3)\n",
    "    display((2, 4)*d6)\n",
    "with d(20) as d20:\n",
    "    display(2*d20)\n",
    "with d(4) as d4, d(6) as d6:\n",
    "    display(1*d6 + 2*d4)\n",
    "    assert (1*d6 + 2*d4).sum() <= 14\n",
    "    display(((3, 1)*d6 + (3, 2)*d4))\n",
    "    display((((3, 1)*d6 + (3, 2)*d4)).sum())\n",
    "    assert ((((3, 1)*d6 + (3, 2)*d4)).sum() <= 14).all()\n",
    "    "
   ]
  },
  {
   "cell_type": "markdown",
   "metadata": {},
   "source": [
    "## Analysis"
   ]
  },
  {
   "cell_type": "code",
   "execution_count": 46,
   "metadata": {},
   "outputs": [],
   "source": [
    "\n",
    "d4 = d(4)\n",
    "d6 = d(6)\n",
    "d8 = d(8)\n",
    "d10 = d(10)\n",
    "d12 = d(12)\n",
    "d20 = d(20)\n"
   ]
  },
  {
   "cell_type": "code",
   "execution_count": 47,
   "metadata": {},
   "outputs": [],
   "source": [
    "k = int(1e5)\n"
   ]
  },
  {
   "cell_type": "code",
   "execution_count": 100,
   "metadata": {},
   "outputs": [],
   "source": [
    "rolls = [\n",
    "    ('1d20',               (k, 1) * d20),\n",
    "    ('1d4',                (k, 1) * d4),\n",
    "    ('1d6',                (k, 1) * d6),\n",
    "    ('1d8',                (k, 1) * d8),\n",
    "    ('2d4',                (k, 2) * d4),\n",
    "    ('1d4 + 1d6',          (k, 1) * d4 + (k, 1) * d6),\n",
    "    ('1d10',               (k, 1) * d10),\n",
    "    ('2d6',                (k, 2) * d6),\n",
    "    ('1d12',               (k, 1) * d12),\n",
    "    ('1d4 + 1d8',          (k, 1) * d4 + (k, 1) * d8),\n",
    "    ('1d6 + 1d8',          (k, 1) * d6 + (k, 1) * d8),\n",
    "    ('1d4 + 1d10',         (k, 1) * d4 + (k, 1) * d10),\n",
    "    ('2d8',                (k, 2) * d8),\n",
    "    ('1d6 + 1d10',         (k, 1) * d6 + (k, 1) * d10),\n",
    "    ('1d8 + 1d10',         (k, 1) * d8 + (k, 1) * d10),\n",
    "    ('3d4',                (k, 3) * d4),\n",
    "    ('2d4 + 1d6',          (k, 2) * d4 + (k, 1) * d6),\n",
    "    ('1d4 + 2d6',          (k, 1) * d4 + (k, 2) * d6),\n",
    "    ('2d4 + 1d8',          (k, 2) * d4 + (k, 1) * d8),\n",
    "    ('1d4 + 1d6 + 1d8',    (k, 1) * d4 + (k, 1) * d6 + (k, 1) * d8),\n",
    "    ('3d6',                (k, 3) * d6),\n",
    "    ('1d4 + 1d6 + 1d10',   (k, 1) * d4 + (k, 1) * d6 + (k, 1) * d10),\n",
    "    ('1d4 + 2d8',          (k, 1) * d4 + (k, 2) * d8),\n",
    "    ('2d6 + 1d8',          (k, 2) * d6 + (k, 1) * d8),\n",
    "    ('1d4 + 1d8 + 1d10',   (k, 1) * d4 + (k, 1) * d8 + (k, 1) * d10),\n",
    "    ('1d6 + 2d8',          (k, 1) * d6 + (k, 2) * d8),\n",
    "    ('1d6 + 1d8 + 1d10',   (k, 1) * d6 + (k, 1) * d8 + (k, 1) * d10),\n",
    "    ('3d8',                (k, 3) * d8),\n",
    "    ('2d8 + 1d10',         (k, 2) * d8 + (k, 1) * d10),\n",
    "    ('1d8 + 2d10',         (k, 1) * d8 + (k, 2) * d10),\n",
    "    ('3d10',               (k, 3) * d10),\n",
    "]\n"
   ]
  },
  {
   "cell_type": "code",
   "execution_count": 109,
   "metadata": {},
   "outputs": [],
   "source": [
    "# list(enumerate(rolls))"
   ]
  },
  {
   "cell_type": "code",
   "execution_count": 111,
   "metadata": {},
   "outputs": [
    {
     "data": {
      "text/html": [
       "<div>\n",
       "<style scoped>\n",
       "    .dataframe tbody tr th:only-of-type {\n",
       "        vertical-align: middle;\n",
       "    }\n",
       "\n",
       "    .dataframe tbody tr th {\n",
       "        vertical-align: top;\n",
       "    }\n",
       "\n",
       "    .dataframe thead th {\n",
       "        text-align: right;\n",
       "    }\n",
       "</style>\n",
       "<table border=\"1\" class=\"dataframe\">\n",
       "  <thead>\n",
       "    <tr style=\"text-align: right;\">\n",
       "      <th></th>\n",
       "      <th>roll</th>\n",
       "      <th>p(80)</th>\n",
       "      <th>expected</th>\n",
       "      <th>p(20)</th>\n",
       "      <th>double-1</th>\n",
       "    </tr>\n",
       "  </thead>\n",
       "  <tbody>\n",
       "    <tr>\n",
       "      <th>0</th>\n",
       "      <td>1d20</td>\n",
       "      <td>5</td>\n",
       "      <td>10.5</td>\n",
       "      <td>17</td>\n",
       "      <td>0.00000</td>\n",
       "    </tr>\n",
       "    <tr>\n",
       "      <th>1</th>\n",
       "      <td>1d4</td>\n",
       "      <td>1</td>\n",
       "      <td>2.5</td>\n",
       "      <td>4</td>\n",
       "      <td>0.00000</td>\n",
       "    </tr>\n",
       "    <tr>\n",
       "      <th>2</th>\n",
       "      <td>1d6</td>\n",
       "      <td>2</td>\n",
       "      <td>3.5</td>\n",
       "      <td>5</td>\n",
       "      <td>0.00000</td>\n",
       "    </tr>\n",
       "    <tr>\n",
       "      <th>3</th>\n",
       "      <td>1d8</td>\n",
       "      <td>2</td>\n",
       "      <td>4.5</td>\n",
       "      <td>7</td>\n",
       "      <td>0.00000</td>\n",
       "    </tr>\n",
       "    <tr>\n",
       "      <th>4</th>\n",
       "      <td>2d4</td>\n",
       "      <td>4</td>\n",
       "      <td>5.0</td>\n",
       "      <td>6</td>\n",
       "      <td>0.06095</td>\n",
       "    </tr>\n",
       "    <tr>\n",
       "      <th>5</th>\n",
       "      <td>1d4 + 1d6</td>\n",
       "      <td>4</td>\n",
       "      <td>6.0</td>\n",
       "      <td>8</td>\n",
       "      <td>0.04085</td>\n",
       "    </tr>\n",
       "    <tr>\n",
       "      <th>6</th>\n",
       "      <td>1d10</td>\n",
       "      <td>3</td>\n",
       "      <td>5.5</td>\n",
       "      <td>8</td>\n",
       "      <td>0.00000</td>\n",
       "    </tr>\n",
       "    <tr>\n",
       "      <th>7</th>\n",
       "      <td>2d6</td>\n",
       "      <td>5</td>\n",
       "      <td>7.0</td>\n",
       "      <td>9</td>\n",
       "      <td>0.02783</td>\n",
       "    </tr>\n",
       "    <tr>\n",
       "      <th>8</th>\n",
       "      <td>1d12</td>\n",
       "      <td>3</td>\n",
       "      <td>6.5</td>\n",
       "      <td>10</td>\n",
       "      <td>0.00000</td>\n",
       "    </tr>\n",
       "    <tr>\n",
       "      <th>9</th>\n",
       "      <td>1d4 + 1d8</td>\n",
       "      <td>5</td>\n",
       "      <td>7.0</td>\n",
       "      <td>9</td>\n",
       "      <td>0.03050</td>\n",
       "    </tr>\n",
       "    <tr>\n",
       "      <th>10</th>\n",
       "      <td>1d6 + 1d8</td>\n",
       "      <td>5</td>\n",
       "      <td>8.0</td>\n",
       "      <td>11</td>\n",
       "      <td>0.02146</td>\n",
       "    </tr>\n",
       "    <tr>\n",
       "      <th>11</th>\n",
       "      <td>1d4 + 1d10</td>\n",
       "      <td>5</td>\n",
       "      <td>8.0</td>\n",
       "      <td>11</td>\n",
       "      <td>0.02492</td>\n",
       "    </tr>\n",
       "    <tr>\n",
       "      <th>12</th>\n",
       "      <td>2d8</td>\n",
       "      <td>6</td>\n",
       "      <td>9.0</td>\n",
       "      <td>12</td>\n",
       "      <td>0.01540</td>\n",
       "    </tr>\n",
       "    <tr>\n",
       "      <th>13</th>\n",
       "      <td>1d6 + 1d10</td>\n",
       "      <td>6</td>\n",
       "      <td>9.0</td>\n",
       "      <td>12</td>\n",
       "      <td>0.01642</td>\n",
       "    </tr>\n",
       "    <tr>\n",
       "      <th>14</th>\n",
       "      <td>1d8 + 1d10</td>\n",
       "      <td>7</td>\n",
       "      <td>10.0</td>\n",
       "      <td>13</td>\n",
       "      <td>0.01316</td>\n",
       "    </tr>\n",
       "    <tr>\n",
       "      <th>15</th>\n",
       "      <td>3d4</td>\n",
       "      <td>6</td>\n",
       "      <td>7.5</td>\n",
       "      <td>9</td>\n",
       "      <td>0.15638</td>\n",
       "    </tr>\n",
       "    <tr>\n",
       "      <th>16</th>\n",
       "      <td>2d4 + 1d6</td>\n",
       "      <td>6</td>\n",
       "      <td>8.5</td>\n",
       "      <td>11</td>\n",
       "      <td>0.12596</td>\n",
       "    </tr>\n",
       "    <tr>\n",
       "      <th>17</th>\n",
       "      <td>1d4 + 2d6</td>\n",
       "      <td>7</td>\n",
       "      <td>9.5</td>\n",
       "      <td>12</td>\n",
       "      <td>0.09471</td>\n",
       "    </tr>\n",
       "    <tr>\n",
       "      <th>18</th>\n",
       "      <td>2d4 + 1d8</td>\n",
       "      <td>7</td>\n",
       "      <td>9.5</td>\n",
       "      <td>12</td>\n",
       "      <td>0.10835</td>\n",
       "    </tr>\n",
       "    <tr>\n",
       "      <th>19</th>\n",
       "      <td>1d4 + 1d6 + 1d8</td>\n",
       "      <td>8</td>\n",
       "      <td>10.5</td>\n",
       "      <td>13</td>\n",
       "      <td>0.08270</td>\n",
       "    </tr>\n",
       "    <tr>\n",
       "      <th>20</th>\n",
       "      <td>3d6</td>\n",
       "      <td>8</td>\n",
       "      <td>10.5</td>\n",
       "      <td>13</td>\n",
       "      <td>0.07462</td>\n",
       "    </tr>\n",
       "    <tr>\n",
       "      <th>21</th>\n",
       "      <td>1d4 + 1d6 + 1d10</td>\n",
       "      <td>8</td>\n",
       "      <td>11.5</td>\n",
       "      <td>15</td>\n",
       "      <td>0.07465</td>\n",
       "    </tr>\n",
       "    <tr>\n",
       "      <th>22</th>\n",
       "      <td>1d4 + 2d8</td>\n",
       "      <td>8</td>\n",
       "      <td>11.5</td>\n",
       "      <td>15</td>\n",
       "      <td>0.07064</td>\n",
       "    </tr>\n",
       "    <tr>\n",
       "      <th>23</th>\n",
       "      <td>2d6 + 1d8</td>\n",
       "      <td>9</td>\n",
       "      <td>11.5</td>\n",
       "      <td>14</td>\n",
       "      <td>0.06319</td>\n",
       "    </tr>\n",
       "    <tr>\n",
       "      <th>24</th>\n",
       "      <td>1d4 + 1d8 + 1d10</td>\n",
       "      <td>9</td>\n",
       "      <td>12.5</td>\n",
       "      <td>16</td>\n",
       "      <td>0.06229</td>\n",
       "    </tr>\n",
       "    <tr>\n",
       "      <th>25</th>\n",
       "      <td>1d6 + 2d8</td>\n",
       "      <td>9</td>\n",
       "      <td>12.5</td>\n",
       "      <td>16</td>\n",
       "      <td>0.05105</td>\n",
       "    </tr>\n",
       "    <tr>\n",
       "      <th>26</th>\n",
       "      <td>1d6 + 1d8 + 1d10</td>\n",
       "      <td>10</td>\n",
       "      <td>13.5</td>\n",
       "      <td>17</td>\n",
       "      <td>0.04546</td>\n",
       "    </tr>\n",
       "    <tr>\n",
       "      <th>27</th>\n",
       "      <td>3d8</td>\n",
       "      <td>10</td>\n",
       "      <td>13.5</td>\n",
       "      <td>17</td>\n",
       "      <td>0.04329</td>\n",
       "    </tr>\n",
       "    <tr>\n",
       "      <th>28</th>\n",
       "      <td>2d8 + 1d10</td>\n",
       "      <td>11</td>\n",
       "      <td>14.5</td>\n",
       "      <td>18</td>\n",
       "      <td>0.03735</td>\n",
       "    </tr>\n",
       "    <tr>\n",
       "      <th>29</th>\n",
       "      <td>1d8 + 2d10</td>\n",
       "      <td>11</td>\n",
       "      <td>15.5</td>\n",
       "      <td>20</td>\n",
       "      <td>0.03242</td>\n",
       "    </tr>\n",
       "    <tr>\n",
       "      <th>30</th>\n",
       "      <td>3d10</td>\n",
       "      <td>12</td>\n",
       "      <td>16.5</td>\n",
       "      <td>21</td>\n",
       "      <td>0.02858</td>\n",
       "    </tr>\n",
       "  </tbody>\n",
       "</table>\n",
       "</div>"
      ],
      "text/plain": [
       "                roll  p(80)  expected  p(20)  double-1\n",
       "0               1d20      5      10.5     17   0.00000\n",
       "1                1d4      1       2.5      4   0.00000\n",
       "2                1d6      2       3.5      5   0.00000\n",
       "3                1d8      2       4.5      7   0.00000\n",
       "4                2d4      4       5.0      6   0.06095\n",
       "5          1d4 + 1d6      4       6.0      8   0.04085\n",
       "6               1d10      3       5.5      8   0.00000\n",
       "7                2d6      5       7.0      9   0.02783\n",
       "8               1d12      3       6.5     10   0.00000\n",
       "9          1d4 + 1d8      5       7.0      9   0.03050\n",
       "10         1d6 + 1d8      5       8.0     11   0.02146\n",
       "11        1d4 + 1d10      5       8.0     11   0.02492\n",
       "12               2d8      6       9.0     12   0.01540\n",
       "13        1d6 + 1d10      6       9.0     12   0.01642\n",
       "14        1d8 + 1d10      7      10.0     13   0.01316\n",
       "15               3d4      6       7.5      9   0.15638\n",
       "16         2d4 + 1d6      6       8.5     11   0.12596\n",
       "17         1d4 + 2d6      7       9.5     12   0.09471\n",
       "18         2d4 + 1d8      7       9.5     12   0.10835\n",
       "19   1d4 + 1d6 + 1d8      8      10.5     13   0.08270\n",
       "20               3d6      8      10.5     13   0.07462\n",
       "21  1d4 + 1d6 + 1d10      8      11.5     15   0.07465\n",
       "22         1d4 + 2d8      8      11.5     15   0.07064\n",
       "23         2d6 + 1d8      9      11.5     14   0.06319\n",
       "24  1d4 + 1d8 + 1d10      9      12.5     16   0.06229\n",
       "25         1d6 + 2d8      9      12.5     16   0.05105\n",
       "26  1d6 + 1d8 + 1d10     10      13.5     17   0.04546\n",
       "27               3d8     10      13.5     17   0.04329\n",
       "28        2d8 + 1d10     11      14.5     18   0.03735\n",
       "29        1d8 + 2d10     11      15.5     20   0.03242\n",
       "30              3d10     12      16.5     21   0.02858"
      ]
     },
     "execution_count": 111,
     "metadata": {},
     "output_type": "execute_result"
    }
   ],
   "source": [
    "max_difficulty = 30\n",
    "min_difficulty = 1\n",
    "\n",
    "M = np.zeros((len(rolls), max_difficulty - min_difficulty + 1))\n",
    "S = np.zeros((len(rolls), k))\n",
    "D1 = np.zeros((len(rolls), 1))\n",
    "difficulty_levels = list(range(min_difficulty, max_difficulty + 1))\n",
    "rows = []\n",
    "for i, (label, roll) in enumerate(rolls):\n",
    "    R = roll\n",
    "    S[i] = R.sum()\n",
    "#     print(S[i], R.max())\n",
    "    for j, difficulty in enumerate(difficulty_levels):\n",
    "        wins = (R.sum() > difficulty).sum().sum()\n",
    "        ones = (R == 1)\n",
    "        double_ones = (R == 1).sum(axis=0) >= 2\n",
    "        pʹ = wins / k\n",
    "        M[i, j] = wins / k\n",
    "    D1[i, 0] = double_ones.sum() / k\n",
    "    percentile = {}\n",
    "    for ptl in [.25, .75]:\n",
    "        percentile[ptl] = (M[i] >= ptl).sum() + min_difficulty\n",
    "    rows.append({\n",
    "        'roll': label, \n",
    "        'p(80)': (M[i] >= .8).sum() + min_difficulty, \n",
    "        'expected': ((roll.max() + roll.min()) / 2),\n",
    "        'p(20)': (M[i] >= .2).sum() + min_difficulty,\n",
    "        'double-1': D1[i][0],\n",
    "        'Chance Ratio': \n",
    "    })\n",
    "df = pd.DataFrame(rows)\n",
    "df"
   ]
  },
  {
   "cell_type": "code",
   "execution_count": 114,
   "metadata": {},
   "outputs": [],
   "source": [
    "outcomes = pd.DataFrame(S).set_index(df['roll'])\n",
    "# outcomes"
   ]
  },
  {
   "cell_type": "code",
   "execution_count": 118,
   "metadata": {},
   "outputs": [
    {
     "data": {
      "text/plain": [
       "[Text(0, 0, '1d20'),\n",
       " Text(1, 0, '1d4'),\n",
       " Text(2, 0, '1d6'),\n",
       " Text(3, 0, '1d8'),\n",
       " Text(4, 0, '2d4'),\n",
       " Text(5, 0, '1d4 + 1d6'),\n",
       " Text(6, 0, '1d10'),\n",
       " Text(7, 0, '2d6'),\n",
       " Text(8, 0, '1d12'),\n",
       " Text(9, 0, '1d4 + 1d8'),\n",
       " Text(10, 0, '1d6 + 1d8'),\n",
       " Text(11, 0, '1d4 + 1d10'),\n",
       " Text(12, 0, '2d8'),\n",
       " Text(13, 0, '1d6 + 1d10'),\n",
       " Text(14, 0, '1d8 + 1d10'),\n",
       " Text(15, 0, '3d4'),\n",
       " Text(16, 0, '2d4 + 1d6'),\n",
       " Text(17, 0, '1d4 + 2d6'),\n",
       " Text(18, 0, '2d4 + 1d8'),\n",
       " Text(19, 0, '1d4 + 1d6 + 1d8'),\n",
       " Text(20, 0, '3d6'),\n",
       " Text(21, 0, '1d4 + 1d6 + 1d10'),\n",
       " Text(22, 0, '1d4 + 2d8'),\n",
       " Text(23, 0, '2d6 + 1d8'),\n",
       " Text(24, 0, '1d4 + 1d8 + 1d10'),\n",
       " Text(25, 0, '1d6 + 2d8'),\n",
       " Text(26, 0, '1d6 + 1d8 + 1d10'),\n",
       " Text(27, 0, '3d8'),\n",
       " Text(28, 0, '2d8 + 1d10'),\n",
       " Text(29, 0, '1d8 + 2d10'),\n",
       " Text(30, 0, '3d10')]"
      ]
     },
     "execution_count": 118,
     "metadata": {},
     "output_type": "execute_result"
    },
    {
     "data": {
      "image/png": "[encoded data removed]",
      "text/plain": [
       "<Figure size 1440x1080 with 1 Axes>"
      ]
     },
     "metadata": {
      "needs_background": "light"
     },
     "output_type": "display_data"
    }
   ],
   "source": [
    "fig = plt.figure(figsize=[20,15])\n",
    "ax = fig.subplots()\n",
    "sns.boxplot(data=outcomes.T.melt(), x='roll', y='value', ax=ax)\n",
    "ax.set_xticklabels(ax.get_xticklabels(), rotation=90, ha='right')"
   ]
  },
  {
   "cell_type": "markdown",
   "metadata": {},
   "source": [
    "## Bonus Calculation"
   ]
  },
  {
   "cell_type": "markdown",
   "metadata": {},
   "source": [
    "### Natural Bonus (Nature)"
   ]
  },
  {
   "cell_type": "code",
   "execution_count": null,
   "metadata": {},
   "outputs": [],
   "source": []
  },
  {
   "cell_type": "markdown",
   "metadata": {},
   "source": [
    "### Expertise - (Nurture)"
   ]
  },
  {
   "cell_type": "code",
   "execution_count": null,
   "metadata": {},
   "outputs": [],
   "source": []
  },
  {
   "cell_type": "markdown",
   "metadata": {},
   "source": []
  },
  {
   "cell_type": "code",
   "execution_count": null,
   "metadata": {},
   "outputs": [],
   "source": []
  },
  {
   "cell_type": "code",
   "execution_count": null,
   "metadata": {},
   "outputs": [],
   "source": []
  },
  {
   "cell_type": "code",
   "execution_count": null,
   "metadata": {},
   "outputs": [],
   "source": []
  }
 ],
 "metadata": {
  "kernelspec": {
   "display_name": "Python 3",
   "language": "python",
   "name": "python3"
  },
  "language_info": {
   "codemirror_mode": {
    "name": "ipython",
    "version": 3
   },
   "file_extension": ".py",
   "mimetype": "text/x-python",
   "name": "python",
   "nbconvert_exporter": "python",
   "pygments_lexer": "ipython3",
   "version": "3.8.5"
  }
 },
 "nbformat": 4,
 "nbformat_minor": 4
}
